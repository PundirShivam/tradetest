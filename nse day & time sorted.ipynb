{
 "cells": [
  {
   "cell_type": "code",
   "execution_count": 1,
   "metadata": {},
   "outputs": [
    {
     "name": "stdout",
     "output_type": "stream",
     "text": [
      "Collecting backtrader\n",
      "\u001b[?25l  Downloading https://files.pythonhosted.org/packages/ab/09/472ad6e42d3a4c9fbd3e162d0a3f9d518ce9189ee8e964bd65ae5af67936/backtrader-1.9.70.122-py2.py3-none-any.whl (410kB)\n",
      "\u001b[K    100% |████████████████████████████████| 419kB 7.8MB/s \n",
      "\u001b[?25hInstalling collected packages: backtrader\n",
      "Successfully installed backtrader-1.9.70.122\n"
     ]
    }
   ],
   "source": [
    "!pip install backtrader"
   ]
  },
  {
   "cell_type": "code",
   "execution_count": 1,
   "metadata": {},
   "outputs": [],
   "source": [
    "import backtrader as bt\n",
    "import matplotlib.pyplot as plt\n",
    "import pandas as pd"
   ]
  },
  {
   "cell_type": "code",
   "execution_count": 35,
   "metadata": {},
   "outputs": [
    {
     "name": "stdout",
     "output_type": "stream",
     "text": [
      "Starting Portfolio Value: 100000.00\n",
      "2018-01-01, 09:15:00, Close @ open , 10543.95 with volume @ open 93228 \n",
      "2018-01-01, 15:30:00, Close @ eod , 10490.00 with volume @ eod 300 \n",
      "2018-01-02, 09:15:00, Close @ open , 11080.00 with volume @ open 200478 \n",
      "2018-01-03, 09:15:00, Close @ open , 10509.80 with volume @ open 175202 \n",
      "2018-01-03, 15:30:00, Close @ eod , 10442.05 with volume @ eod 1500 \n",
      "Final Portfolio Value: 100000.00\n"
     ]
    }
   ],
   "source": [
    "from __future__ import (absolute_import, division, print_function,\n",
    "                        unicode_literals)\n",
    "\n",
    "import datetime\n",
    "import backtrader as bt\n",
    "import backtrader.feeds as btfeeds\n",
    "\n",
    "# Import the backtrader platform\n",
    "import backtrader as bt\n",
    "\n",
    "\n",
    "# Create a Stratey\n",
    "class TestStrategy(bt.Strategy):\n",
    "\n",
    "    def log(self, txt, dt=None):\n",
    "        ''' Logging function for this strategy'''\n",
    "        dt = dt or self.datas[0].datetime.date(0)\n",
    "        t  = self.datas[0].datetime.time(0)\n",
    "        #print('%s, %s' % (dt.isoformat(), txt))\n",
    "        print('%s, %s, %s' % (dt.isoformat(),t, txt))\n",
    "\n",
    "    def __init__(self):\n",
    "        # Keep a reference to the \"close\" line in the data[0] dataseries\n",
    "        # Also, keeping a reference for volume \n",
    "        self.dataclose = self.datas[0].close\n",
    "        self.datavolume = self.datas[0].volume\n",
    "\n",
    "    def next(self):\n",
    "        # Simply log the closing price of the series from the reference\n",
    "        #self.log('Close, %.2f at volume %d' % (self.dataclose[0],self.datavolume[0]))\n",
    "        # modifying to log the close price of the day\n",
    "        t  = self.datas[0].datetime.time(0)\n",
    "        if t == datetime.time(15, 30):\n",
    "            self.log('Close @ eod , %.2f with volume @ eod %d ' % (self.dataclose[0],self.datavolume[0]))\n",
    "        elif t== datetime.time(9,15):\n",
    "            self.log('Close @ open , %.2f with volume @ open %d ' % (self.dataclose[0],self.datavolume[0]))\n",
    "\n",
    "if __name__ == '__main__':\n",
    "    # Create a cerebro entity\n",
    "    cerebro = bt.Cerebro()\n",
    "\n",
    "    # Add a strategy\n",
    "    cerebro.addstrategy(TestStrategy)\n",
    "\n",
    "    # Datas are in a subfolder of the samples. Need to find where the script is\n",
    "    # because it could have been called from anywhere\n",
    "    #modpath = os.path.dirname(os.path.abspath(sys.argv[0]))\n",
    "    #datapath = os.path.join(modpath, '../../datas/orcl-1995-2014.txt')\n",
    "    #datapath='nse1.csv'\n",
    "    # Create a Data Feed\n",
    "    data = btfeeds.GenericCSVData(\n",
    "        dataname='nse1.csv',\n",
    "        timeframe=bt.TimeFrame.Minutes,\n",
    "        fromdate=datetime.datetime(2018, 1, 1),\n",
    "        todate=datetime.datetime(2018, 1, 4),\n",
    "    nullvalue=0.0,\n",
    "\n",
    "    dtformat=('%Y-%m-%d'),\n",
    "    tmformat=('%H:%M:%S') ,   \n",
    "\n",
    "    datetime=0,\n",
    "    time=1,\n",
    "    high=3,\n",
    "    low=4,\n",
    "    open=2,\n",
    "    close=5,\n",
    "    volume=6,\n",
    "    openinterest=7\n",
    ")\n",
    "\n",
    "    # Add the Data Feed to Cerebro\n",
    "    cerebro.adddata(data)\n",
    "\n",
    "    # Set our desired cash start\n",
    "    cerebro.broker.setcash(100000.0)\n",
    "\n",
    "    # Print out the starting conditions\n",
    "    print('Starting Portfolio Value: %.2f' % cerebro.broker.getvalue())\n",
    "\n",
    "    # Run over everything\n",
    "    cerebro.run()\n",
    "\n",
    "    # Print out the final result\n",
    "    print('Final Portfolio Value: %.2f' % cerebro.broker.getvalue())"
   ]
  },
  {
   "cell_type": "code",
   "execution_count": 11,
   "metadata": {},
   "outputs": [
    {
     "data": {
      "text/plain": [
       "\u001b[0;31mInit signature:\u001b[0m \u001b[0mbtfeeds\u001b[0m\u001b[0;34m.\u001b[0m\u001b[0mGenericCSVData\u001b[0m\u001b[0;34m(\u001b[0m\u001b[0;34m*\u001b[0m\u001b[0margs\u001b[0m\u001b[0;34m,\u001b[0m \u001b[0;34m**\u001b[0m\u001b[0mkwargs\u001b[0m\u001b[0;34m)\u001b[0m\u001b[0;34m\u001b[0m\u001b[0;34m\u001b[0m\u001b[0m\n",
       "\u001b[0;31mDocstring:\u001b[0m     \n",
       "Parses a CSV file according to the order and field presence defined by the\n",
       "parameters\n",
       "\n",
       "Specific parameters (or specific meaning):\n",
       "\n",
       "  - ``dataname``: The filename to parse or a file-like object\n",
       "\n",
       "  - The lines parameters (datetime, open, high ...) take numeric values\n",
       "\n",
       "    A value of -1 indicates absence of that field in the CSV source\n",
       "\n",
       "  - If ``time`` is present (parameter time >=0) the source contains\n",
       "    separated fields for date and time, which will be combined\n",
       "\n",
       "  - ``nullvalue``\n",
       "\n",
       "    Value that will be used if a value which should be there is missing\n",
       "    (the CSV field is empty)\n",
       "\n",
       "  - ``dtformat``: Format used to parse the datetime CSV field. See the\n",
       "    python strptime/strftime documentation for the format.\n",
       "\n",
       "    If a numeric value is specified, it will be interpreted as follows\n",
       "\n",
       "      - ``1``: The value is a Unix timestamp of type ``int`` representing\n",
       "        the number of seconds since Jan 1st, 1970\n",
       "\n",
       "      - ``2``: The value is a Unix timestamp of type ``float``\n",
       "\n",
       "    If a **callable** is passed\n",
       "\n",
       "      - it will accept a string and return a `datetime.datetime` python\n",
       "        instance\n",
       "\n",
       "  - ``tmformat``: Format used to parse the time CSV field if \"present\"\n",
       "    (the default for the \"time\" CSV field is not to be present)\n",
       "\u001b[0;31mFile:\u001b[0m           /srv/conda/lib/python3.6/site-packages/backtrader/feeds/csvgeneric.py\n",
       "\u001b[0;31mType:\u001b[0m           MetaCSVDataBase\n",
       "\u001b[0;31mSubclasses:\u001b[0m     SierraChartCSVData, MT4CSVData\n"
      ]
     },
     "metadata": {},
     "output_type": "display_data"
    }
   ],
   "source": [
    "btfeeds.GenericCSVData?"
   ]
  },
  {
   "cell_type": "code",
   "execution_count": 30,
   "metadata": {},
   "outputs": [],
   "source": [
    "import datetime\n",
    "t1=datetime.time(15,30,0)"
   ]
  },
  {
   "cell_type": "code",
   "execution_count": 31,
   "metadata": {},
   "outputs": [
    {
     "data": {
      "text/plain": [
       "datetime.time(15, 30)"
      ]
     },
     "execution_count": 31,
     "metadata": {},
     "output_type": "execute_result"
    }
   ],
   "source": [
    "t1"
   ]
  },
  {
   "cell_type": "code",
   "execution_count": null,
   "metadata": {},
   "outputs": [],
   "source": []
  }
 ],
 "metadata": {
  "kernelspec": {
   "display_name": "Python 3",
   "language": "python",
   "name": "python3"
  },
  "language_info": {
   "codemirror_mode": {
    "name": "ipython",
    "version": 3
   },
   "file_extension": ".py",
   "mimetype": "text/x-python",
   "name": "python",
   "nbconvert_exporter": "python",
   "pygments_lexer": "ipython3",
   "version": "3.6.7"
  }
 },
 "nbformat": 4,
 "nbformat_minor": 2
}
