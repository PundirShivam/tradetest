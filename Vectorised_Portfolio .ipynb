{
 "cells": [
  {
   "cell_type": "code",
   "execution_count": 1,
   "metadata": {},
   "outputs": [],
   "source": [
    "from datetime import datetime\n",
    "import pandas as pd\n",
    "import numpy as np\n",
    "import os\n",
    "from pandas.tseries.offsets import BDay\n",
    "%matplotlib inline\n",
    "import matplotlib.pyplot as plt"
   ]
  },
  {
   "cell_type": "code",
   "execution_count": 2,
   "metadata": {},
   "outputs": [],
   "source": [
    "files = os.listdir(\"E:\\\\Research-Stuff\\\\Processed\\\\\")"
   ]
  },
  {
   "cell_type": "code",
   "execution_count": 3,
   "metadata": {},
   "outputs": [
    {
     "name": "stderr",
     "output_type": "stream",
     "text": [
      "C:\\Anaconda2\\lib\\site-packages\\ipykernel_launcher.py:6: FutureWarning: Sorting because non-concatenation axis is not aligned. A future version\n",
      "of pandas will change to not sort by default.\n",
      "\n",
      "To accept the future behavior, pass 'sort=False'.\n",
      "\n",
      "To retain the current behavior and silence the warning, pass 'sort=True'.\n",
      "\n",
      "  \n"
     ]
    }
   ],
   "source": [
    "data = pd.DataFrame()\n",
    "for _file in files:\n",
    "    df = pd.read_csv(os.path.join(\"E:\\\\Research-Stuff\\\\Processed\\\\\",_file))\n",
    "#     df['Series'] = _file.replace('.csv','')\n",
    "    df = df.filter(['Date','Close']).rename(columns={'Close':_file.replace(\".csv\",\"\")}).drop_duplicates().set_index('Date')\n",
    "    data = pd.concat([data,df],axis=1)"
   ]
  },
  {
   "cell_type": "code",
   "execution_count": 54,
   "metadata": {},
   "outputs": [],
   "source": [
    "dailyReturns = data.pct_change()"
   ]
  },
  {
   "cell_type": "code",
   "execution_count": 55,
   "metadata": {},
   "outputs": [],
   "source": [
    "dailyReturns.index = pd.to_datetime(dailyReturns.index)"
   ]
  },
  {
   "cell_type": "code",
   "execution_count": 7,
   "metadata": {},
   "outputs": [
    {
     "data": {
      "text/plain": [
       "<matplotlib.axes._subplots.AxesSubplot at 0xc7f9080>"
      ]
     },
     "execution_count": 7,
     "metadata": {},
     "output_type": "execute_result"
    },
    {
     "data": {
      "image/png": "[encoded data removed]",
      "text/plain": [
       "<Figure size 432x288 with 1 Axes>"
      ]
     },
     "metadata": {
      "needs_background": "light"
     },
     "output_type": "display_data"
    }
   ],
   "source": [
    "## mat lab kuch bhi\n",
    "(dailyReturns.sum(axis=1)).cumsum().plot()"
   ]
  },
  {
   "cell_type": "code",
   "execution_count": 8,
   "metadata": {},
   "outputs": [],
   "source": [
    "sec_count =  dailyReturns.shape[1] # securities count"
   ]
  },
  {
   "cell_type": "code",
   "execution_count": 9,
   "metadata": {},
   "outputs": [],
   "source": [
    "initial_weight = 1.0/sec_count"
   ]
  },
  {
   "cell_type": "code",
   "execution_count": 10,
   "metadata": {},
   "outputs": [],
   "source": [
    "# dailyReturns = dailyReturns.fillna(0) ## filling all nans with 0 ## <<<<please think more about this too\n",
    "# dailywts = dailyReturns.copy() # creating a copy"
   ]
  },
  {
   "cell_type": "code",
   "execution_count": 44,
   "metadata": {},
   "outputs": [],
   "source": [
    "for col in dailywts.columns:\n",
    "    dailywts[col].values[:] = 1 #np.random.random(size=(1,5970)) ## reandom dailywts"
   ]
  },
  {
   "cell_type": "code",
   "execution_count": 45,
   "metadata": {},
   "outputs": [],
   "source": [
    "def assetReturn(dailywts,assets='ALL'):\n",
    "    '''\n",
    "    Function to get the daily return series for a list of equiyt IDs\n",
    "    @params: daily , a pandas df with the index dates same as the index date for the dailyReturns series\n",
    "    @assets: list of all asset ids which can be passes or pass ALL to get a df for each compoenent return\n",
    "    '''\n",
    "    ## re-check if we dailywts is needed to be assigned as global\n",
    "    if assets =='ALL':\n",
    "        return dailyReturns.multiply(dailywts)\n",
    "    return dailyReturns.multiply(dailywts)[assets]\n",
    "def portReturn(dailywts):\n",
    "    '''\n",
    "    Function return the daily portfolio return \n",
    "    '''\n",
    "    return pd.DataFrame(assetReturn(dailywts,assets='ALL').sum(axis=1),columns=['PortfolioReturn'])\n",
    "def portReturnSeries(dailywts):\n",
    "    '''\n",
    "    Function return the cumulative portfolio return i.e. running portfolio return\n",
    "    '''\n",
    "    cum_port_retun_series = (portReturn(dailywts)+1).cumprod()\n",
    "    return cum_port_retun_series.add_suffix('Series')\n",
    "def assetReturnSeries(dailywts,assets='ALL'):\n",
    "    '''\n",
    "    Function to get the cumulative return series for a list of equiyt IDs\n",
    "    @params: daily , a pandas df with the index dates same as the index date for the dailyReturns series\n",
    "    @assets: list of all asset ids which can be passes or pass ALL to get a df for each compoenent return\n",
    "    '''\n",
    "    ## re-check if we dailywts is needed to be assigned as global\n",
    "    return (assetReturn(dailywts,assets)+1).cumprod().add_suffix('Series')\n",
    "def assetTurnover(dailywts,assets='ALL'):\n",
    "    '''\n",
    "    Function to get the daily turnover series for a list of equiyt IDs\n",
    "    @params: daily , a pandas df with the index dates same as the index date for the dailyReturns series\n",
    "    @assets: list of all asset ids which can be passes or pass ALL to get a df for each compoenent return\n",
    "    # turnover is based on formulae (today wts - yesterday's wts)*100/2\n",
    "    '''\n",
    "    turnover = np.abs((dailywts-dailywts.shift(1))/2).fillna(1)*100\n",
    "    if assets=='ALL':\n",
    "        return turnover\n",
    "    return turnover[assets]\n",
    "def portTurnover(dailywts):\n",
    "    '''\n",
    "    Function return the daily portfolio turnover \n",
    "    '''\n",
    "    return pd.DataFrame(assetTurnover(dailywts,assets='ALL').sum(axis=1),columns=['PortfolioTurnover'])/dailywts.shape[1]\n",
    "def drawdown(portfolioDailyReturn):\n",
    "    '''\n",
    "    Returns portfolio drawdown in percentage\n",
    "    @params: portfolioDailyReturn series\n",
    "    '''\n",
    "    ## further make it generic to return dates , plot and top 5 drawdowns\n",
    "    returns = (portfolioDailyReturn+1).cumprod() # converts daily returns into a cumulative return series\n",
    "    xs = np.log(returns).values\n",
    "    i = np.argmax(np.maximum.accumulate(xs) - xs) # end of the period\n",
    "    j = np.argmax(xs[:i]) # start of period\n",
    "    drawdown = (returns.iloc[i]/returns.iloc[j]-1)*100\n",
    "    return drawdown.values[0]\n",
    "#     returns.plot(figsize=(14,8))\n",
    "#     plt.plot([returns.index[i], returns.index[j]], [returns.iloc[i], returns.iloc[j]], 'o', color='Red', markersize=10)\n",
    "    "
   ]
  },
  {
   "cell_type": "code",
   "execution_count": 46,
   "metadata": {},
   "outputs": [],
   "source": [
    "# returns = portReturn(dailywts)\n",
    "# drawdown(returns)"
   ]
  },
  {
   "cell_type": "code",
   "execution_count": 30,
   "metadata": {},
   "outputs": [],
   "source": [
    "## sharpe for the equities and also for the portfolio\n",
    "def sharpe(portfolioDailyReturn,rfr=.05):\n",
    "    '''\n",
    "    The function calculates and returns the portfolio sharpe\n",
    "    @params: rfr = RiskFreRate in decimals\n",
    "    Output: Based on (Rm-rfr)/std(portfolioReturn)\n",
    "    '''\n",
    "    return ((portfolioDailyReturn.mean()-.05)/portfolioDailyReturn.std()).values[0]\n"
   ]
  },
  {
   "cell_type": "code",
   "execution_count": null,
   "metadata": {},
   "outputs": [],
   "source": [
    "def signal(data):\n",
    "    r\n",
    "    pass\n",
    "    "
   ]
  },
  {
   "cell_type": "code",
   "execution_count": 47,
   "metadata": {},
   "outputs": [],
   "source": [
    "portfolio = assetReturnSeries(dailywts).loc['2000-1-1':]"
   ]
  },
  {
   "cell_type": "code",
   "execution_count": 19,
   "metadata": {},
   "outputs": [],
   "source": [
    "## rollign means for returns and volume"
   ]
  },
  {
   "cell_type": "code",
   "execution_count": 20,
   "metadata": {},
   "outputs": [],
   "source": [
    "## inclusion of transaction cost , leverage ? "
   ]
  },
  {
   "cell_type": "code",
   "execution_count": null,
   "metadata": {},
   "outputs": [],
   "source": []
  },
  {
   "cell_type": "code",
   "execution_count": 77,
   "metadata": {},
   "outputs": [
    {
     "name": "stderr",
     "output_type": "stream",
     "text": [
      "C:\\Anaconda2\\lib\\site-packages\\ipykernel_launcher.py:257: FutureWarning: Currently, 'apply' passes the values as ndarrays to the applied function. In the future, this will change to passing it as Series objects. You need to specify 'raw=True' to keep the current behaviour, and you can pass 'raw=False' to silence this warning\n"
     ]
    },
    {
     "name": "stdout",
     "output_type": "stream",
     "text": [
      "1 loop, best of 3: 875 ms per loop\n"
     ]
    }
   ],
   "source": [
    "%%timeit\n",
    "rr = (dailyReturns+1).rolling(5,min_periods=3).apply(np.prod)"
   ]
  },
  {
   "cell_type": "code",
   "execution_count": 80,
   "metadata": {},
   "outputs": [],
   "source": []
  },
  {
   "cell_type": "code",
   "execution_count": 127,
   "metadata": {},
   "outputs": [],
   "source": [
    "def quintiles(rd,bins=4):\n",
    "    '''\n",
    "    The function takes in the value series ( returns, volume , cap , etc)\n",
    "    and returns the cross sectional rank for each date\n",
    "    '''\n",
    "    ## Any frequency chocie as param\n",
    "    ranks = rd.rank(axis=1) ## lowest rank means the lowest value\n",
    "    for col in ranks.columns:\n",
    "        ranks[col] = pd.cut(ranks[col],bins,labels=False)\n",
    "    return ranks"
   ]
  },
  {
   "cell_type": "code",
   "execution_count": 165,
   "metadata": {},
   "outputs": [],
   "source": [
    "quint = quintiles(rr)"
   ]
  },
  {
   "cell_type": "code",
   "execution_count": 166,
   "metadata": {},
   "outputs": [],
   "source": [
    "q3 = quint.replace([np.nan,1,2,0],0).replace([3],1)"
   ]
  },
  {
   "cell_type": "code",
   "execution_count": 167,
   "metadata": {},
   "outputs": [],
   "source": [
    "wts = q3.div(q3.sum(axis=1),axis='rows')"
   ]
  },
  {
   "cell_type": "code",
   "execution_count": 176,
   "metadata": {},
   "outputs": [
    {
     "data": {
      "text/plain": [
       "<matplotlib.axes._subplots.AxesSubplot at 0x20cec400>"
      ]
     },
     "execution_count": 176,
     "metadata": {},
     "output_type": "execute_result"
    },
    {
     "data": {
      "image/png": "[encoded data removed]",
      "text/plain": [
       "<Figure size 432x288 with 1 Axes>"
      ]
     },
     "metadata": {
      "needs_background": "light"
     },
     "output_type": "display_data"
    }
   ],
   "source": [
    "assetReturn(wts)['SBIN'].plot()"
   ]
  },
  {
   "cell_type": "code",
   "execution_count": 196,
   "metadata": {},
   "outputs": [
    {
     "data": {
      "text/plain": [
       "<matplotlib.axes._subplots.AxesSubplot at 0x20ddcfd0>"
      ]
     },
     "execution_count": 196,
     "metadata": {},
     "output_type": "execute_result"
    },
    {
     "data": {
      "image/png": "[encoded data removed]",
      "text/plain": [
       "<Figure size 432x288 with 1 Axes>"
      ]
     },
     "metadata": {
      "needs_background": "light"
     },
     "output_type": "display_data"
    }
   ],
   "source": [
    "portReturn(wts).plot()"
   ]
  },
  {
   "cell_type": "code",
   "execution_count": 201,
   "metadata": {},
   "outputs": [],
   "source": [
    "t= portReturn(wts)[portReturn(wts)['PortfolioReturn']!=0]"
   ]
  },
  {
   "cell_type": "code",
   "execution_count": 205,
   "metadata": {},
   "outputs": [
    {
     "data": {
      "text/plain": [
       "<matplotlib.axes._subplots.AxesSubplot at 0x29a07c50>"
      ]
     },
     "execution_count": 205,
     "metadata": {},
     "output_type": "execute_result"
    },
    {
     "data": {
      "image/png": "[encoded data removed]",
      "text/plain": [
       "<Figure size 432x288 with 1 Axes>"
      ]
     },
     "metadata": {
      "needs_background": "light"
     },
     "output_type": "display_data"
    }
   ],
   "source": [
    "(t+1).cumprod().plot()"
   ]
  },
  {
   "cell_type": "code",
   "execution_count": 206,
   "metadata": {},
   "outputs": [
    {
     "data": {
      "text/plain": [
       "'C:\\\\Users\\\\spundir'"
      ]
     },
     "execution_count": 206,
     "metadata": {},
     "output_type": "execute_result"
    }
   ],
   "source": [
    "import os\n",
    "os.getcwd()"
   ]
  },
  {
   "cell_type": "code",
   "execution_count": null,
   "metadata": {},
   "outputs": [],
   "source": []
  }
 ],
 "metadata": {
  "kernelspec": {
   "display_name": "Python 2",
   "language": "python",
   "name": "python2"
  },
  "language_info": {
   "codemirror_mode": {
    "name": "ipython",
    "version": 2
   },
   "file_extension": ".py",
   "mimetype": "text/x-python",
   "name": "python",
   "nbconvert_exporter": "python",
   "pygments_lexer": "ipython2",
   "version": "2.7.15"
  }
 },
 "nbformat": 4,
 "nbformat_minor": 2
}
