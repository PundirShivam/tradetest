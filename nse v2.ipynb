{
 "cells": [
  {
   "cell_type": "code",
   "execution_count": null,
   "metadata": {},
   "outputs": [],
   "source": []
  },
  {
   "cell_type": "code",
   "execution_count": 7,
   "metadata": {},
   "outputs": [],
   "source": [
    "import backtrader as bt\n",
    "import matplotlib.pyplot as plt\n",
    "import pandas as pd\n",
    "import numpy as np"
   ]
  },
  {
   "cell_type": "code",
   "execution_count": 11,
   "metadata": {},
   "outputs": [
    {
     "name": "stdout",
     "output_type": "stream",
     "text": [
      "Starting Portfolio Value: 100000.00\n",
      "2018-01-01, 10:02:00, B,MAs:10543.91,MAl:10543.58\n",
      "2018-01-01, 11:29:00, B,MAs:10552.42,MAl:10552.39\n",
      "2018-01-01, 12:39:00, B,MAs:10550.79,MAl:10550.74\n",
      "2018-01-01, 14:03:00, B,MAs:10540.19,MAl:10540.02\n",
      "2018-01-02, 11:06:00, B,MAs:11081.60,MAl:11081.50\n",
      "2018-01-02, 13:09:00, B,MAs:10989.18,MAl:10985.61\n",
      "2018-01-03, 10:54:00, B,MAs:10489.95,MAl:10489.91\n",
      "2018-01-03, 11:58:00, B,MAs:10480.63,MAl:10480.22\n",
      "2018-01-03, 13:20:00, B,MAs:10498.83,MAl:10498.80\n",
      "Final Portfolio Value: 100000.00\n"
     ]
    }
   ],
   "source": [
    "from __future__ import (absolute_import, division, print_function,\n",
    "                        unicode_literals)\n",
    "\n",
    "import datetime\n",
    "import backtrader as bt\n",
    "import backtrader.feeds as btfeeds\n",
    "import backtrader.indicators as btind\n",
    "import numpy as np\n",
    "# Import the backtrader platform\n",
    "import backtrader as bt\n",
    "\n",
    "\n",
    "# Create a Stratey\n",
    "class TestStrategy(bt.Strategy):\n",
    "\n",
    "    def log(self, txt, dt=None):\n",
    "        ''' Logging function for this strategy'''\n",
    "        dt = dt or self.datas[0].datetime.date(0)\n",
    "        t  = self.datas[0].datetime.time(0)\n",
    "        #print('%s, %s' % (dt.isoformat(), txt))\n",
    "        print('%s, %s, %s' % (dt.isoformat(),t, txt))\n",
    "\n",
    "    def __init__(self):\n",
    "        params = dict(period1=20,period2=45)\n",
    "        # Keep a reference to the \"close\" line in the data[0] dataseries\n",
    "        # Also, keeping a reference for volume \n",
    "        self.dataclose = self.datas[0].close\n",
    "        self.datavolume = self.datas[0].volume\n",
    "        \n",
    "        self.movavl = btind.SimpleMovingAverage(self.dataclose, period=45)\n",
    "        self.movavs = btind.SimpleMovingAverage(self.dataclose, period=20)\n",
    "        \n",
    "        # the problem of using the moving average as this one\n",
    "        # will be that it be be a continous line\n",
    "        # so rather try to have a filter \n",
    "        \n",
    "        # Trying out the custom time \n",
    "        '''\n",
    "        t  = self.datas[0].datetime.time(0)\n",
    "        if t > datetime.time(10,0) :\n",
    "            self.movavl = np.mean(self.dataclose[-46:-1])\n",
    "            self.movavs = np.mean(self.dataclose[-21:-1])\n",
    "        '''\n",
    "        \n",
    "        \n",
    "        # To keep track of pending orders and buy price/commission\n",
    "        self.order = None\n",
    "        self.buyprice = None\n",
    "        self.buycomm = None\n",
    "        \n",
    "    def next(self):\n",
    "        # Simply log the closing price of the series from the reference\n",
    "        #self.log('Close, %.2f at volume %d' % (self.dataclose[0],self.datavolume[0]))\n",
    "        # modifying to log the close price of the day\n",
    "        t  = self.datas[0].datetime.time(0)\n",
    "        #self.log('Close-{:.2f},SMAl-{:.2f},SMAs-{:.2f}'.format(self.dataclose[0],self.movavl[-1],self.movavs[-1]))\n",
    "        # Do remember to take -1 as SMA as these will be updated upto the previous value\n",
    "        # taking 0 will create unbaised result.\n",
    "        if t >= datetime.time(10,0) :\n",
    "            if self.movavs[-1] > self.movavl[-1] :\n",
    "                if self.movavs[-2] < self.movavl[-2]: \n",
    "                    self.log('B,MAs:{:.2f},MAl:{:.2f}'.format(self.movavs[-1],self.movavl[-1]))\n",
    "            elif self.movavs[-1] < self.movavl[-1]:\n",
    "                if self.movavs[-2] > self.movavl[-2]: \n",
    "                #self.log('S')\n",
    "                    pass\n",
    "            else:\n",
    "            #self.log('H')\n",
    "                pass\n",
    "        \n",
    "        \n",
    "        '''\n",
    "        if t == datetime.time(15, 30):\n",
    "            self.log('Close @ eod , %.2f with volume @ eod %d ' % (self.dataclose[0],self.datavolume[0]))\n",
    "        elif t== datetime.time(9,15):\n",
    "            self.log('Close @ open , %.2f with volume @ open %d ' % (self.dataclose[0],self.datavolume[0]))\n",
    "        '''\n",
    "\n",
    "if __name__ == '__main__':\n",
    "    # Create a cerebro entity\n",
    "    cerebro = bt.Cerebro()\n",
    "\n",
    "    # Add a strategy\n",
    "    cerebro.addstrategy(TestStrategy)\n",
    "\n",
    "    # Datas are in a subfolder of the samples. Need to find where the script is\n",
    "    # because it could have been called from anywhere\n",
    "    #modpath = os.path.dirname(os.path.abspath(sys.argv[0]))\n",
    "    #datapath = os.path.join(modpath, '../../datas/orcl-1995-2014.txt')\n",
    "    #datapath='nse1.csv'\n",
    "    # Create a Data Feed\n",
    "    data = btfeeds.GenericCSVData(\n",
    "        dataname='nse1.csv',\n",
    "        timeframe=bt.TimeFrame.Minutes,\n",
    "        fromdate=datetime.datetime(2018, 1, 1),\n",
    "        todate=datetime.datetime(2018, 1, 4),\n",
    "    nullvalue=0.0,\n",
    "\n",
    "    dtformat=('%Y-%m-%d'),\n",
    "    tmformat=('%H:%M:%S') ,   \n",
    "\n",
    "    datetime=0,\n",
    "    time=1,\n",
    "    high=3,\n",
    "    low=4,\n",
    "    open=2,\n",
    "    close=5,\n",
    "    volume=6,\n",
    "    openinterest=7\n",
    ")\n",
    "\n",
    "    # Add the Data Feed to Cerebro\n",
    "    cerebro.adddata(data)\n",
    "\n",
    "    # Set our desired cash start\n",
    "    cerebro.broker.setcash(100000.0)\n",
    "\n",
    "    # Print out the starting conditions\n",
    "    print('Starting Portfolio Value: %.2f' % cerebro.broker.getvalue())\n",
    "\n",
    "    # Run over everything\n",
    "    cerebro.run()\n",
    "\n",
    "    # Print out the final result\n",
    "    print('Final Portfolio Value: %.2f' % cerebro.broker.getvalue())"
   ]
  },
  {
   "cell_type": "code",
   "execution_count": 8,
   "metadata": {},
   "outputs": [
    {
     "data": {
      "text/plain": [
       "1.5"
      ]
     },
     "execution_count": 8,
     "metadata": {},
     "output_type": "execute_result"
    }
   ],
   "source": [
    "np.mean([1,2])"
   ]
  },
  {
   "cell_type": "code",
   "execution_count": null,
   "metadata": {},
   "outputs": [],
   "source": []
  },
  {
   "cell_type": "code",
   "execution_count": null,
   "metadata": {},
   "outputs": [],
   "source": []
  },
  {
   "cell_type": "code",
   "execution_count": null,
   "metadata": {},
   "outputs": [],
   "source": []
  }
 ],
 "metadata": {
  "kernelspec": {
   "display_name": "Python 3",
   "language": "python",
   "name": "python3"
  },
  "language_info": {
   "codemirror_mode": {
    "name": "ipython",
    "version": 3
   },
   "file_extension": ".py",
   "mimetype": "text/x-python",
   "name": "python",
   "nbconvert_exporter": "python",
   "pygments_lexer": "ipython3",
   "version": "3.6.7"
  }
 },
 "nbformat": 4,
 "nbformat_minor": 2
}
