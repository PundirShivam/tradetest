{
  "nbformat": 4,
  "nbformat_minor": 0,
  "metadata": {
    "colab": {
      "name": "NIFTY_DATA.ipynb",
      "provenance": [],
      "authorship_tag": "ABX9TyOmC+obivNkMiwJXWOIuIG/",
      "include_colab_link": true
    },
    "kernelspec": {
      "name": "python3",
      "display_name": "Python 3"
    }
  },
  "cells": [
    {
      "cell_type": "markdown",
      "metadata": {
        "id": "view-in-github",
        "colab_type": "text"
      },
      "source": [
        "<a href=\"https://colab.research.google.com/github/PundirShivam/tradetest/blob/master/NIFTY_DATA.ipynb\" target=\"_parent\"><img src=\"https://colab.research.google.com/assets/colab-badge.svg\" alt=\"Open In Colab\"/></a>"
      ]
    },
    {
      "cell_type": "markdown",
      "metadata": {
        "id": "vEEbj2CnIRIA",
        "colab_type": "text"
      },
      "source": [
        "**Downloading NSE NIFTY Data*\n",
        "\n",
        "* Python script to download NIFTY Listed equity data  from 1 Jan 2000 to 11 Mar 2020.\n",
        "* Do note the data uses open source yfinance module which has a path around pandas data reader\n",
        "* The data might need to have pre - processing performed before using it out\n",
        "for backtesting"
      ]
    },
    {
      "cell_type": "code",
      "metadata": {
        "id": "-LsM22cADqRz",
        "colab_type": "code",
        "colab": {}
      },
      "source": [
        "print(\"Version of pandas used\",pd.__version__)"
      ],
      "execution_count": 0,
      "outputs": []
    },
    {
      "cell_type": "code",
      "metadata": {
        "id": "hlmmD1cmJT76",
        "colab_type": "code",
        "colab": {}
      },
      "source": [
        "''' Folder will be used if using google drive '''\n",
        "# from google.colab import drive\n",
        "# drive.mount('/content/drive')"
      ],
      "execution_count": 0,
      "outputs": []
    },
    {
      "cell_type": "code",
      "metadata": {
        "id": "JS2SphLgDrMi",
        "colab_type": "code",
        "colab": {}
      },
      "source": [
        "'''Modules needed if not present '''\n",
        "# !pip install pandas-datareader\n",
        "# !pip install yfinance"
      ],
      "execution_count": 0,
      "outputs": []
    },
    {
      "cell_type": "code",
      "metadata": {
        "id": "nuHT8iVPKEpp",
        "colab_type": "code",
        "colab": {}
      },
      "source": [
        "# imports\n",
        "from pandas_datareader import data as pdr\n",
        "from datetime import datetime\n",
        "import yfinance as yf\n",
        "yf.pdr_override()\n",
        "import pandas as pd"
      ],
      "execution_count": 0,
      "outputs": []
    },
    {
      "cell_type": "code",
      "metadata": {
        "id": "e-dO6Nx8DyZX",
        "colab_type": "code",
        "colab": {}
      },
      "source": [
        "# Tickers list\n",
        "# We can add and delete any ticker from the list to get desired ticker live data\n",
        "ticker_list = pd.read_csv('EQUITY_L.csv').SYMBOL.values\n",
        "ticker_list = [ticker+'.NS' for ticker in ticker_list]\n",
        "# We can get data by our choice by giving days bracket\n",
        "start_date= datetime(2000,1,1)\n",
        "end_date= datetime(2020,5,11)\n",
        "\n",
        "files=[]\n",
        "def getData(ticker,start_date,end_date,folder=None):\n",
        "  # print(ticker)\n",
        "  data = pdr.get_data_yahoo(ticker, start=start_date, end=end_date)\n",
        "  dataname= ticker+'_'+str(end_date.strftime(\"%d%m%y\"))\n",
        "  # files.append(dataname)\n",
        "  if folder is not None:\n",
        "    data.to_csv(folder+\"{}.csv\".format(dataname))"
      ],
      "execution_count": 0,
      "outputs": []
    },
    {
      "cell_type": "code",
      "metadata": {
        "id": "kzti8jiAD3mM",
        "colab_type": "code",
        "colab": {}
      },
      "source": [
        "\n",
        "# getData('21STCENMGM.NS',datetime(2000,1,1),datetime(2019,11,1),\"//content//drive//My Drive//DATA_ROOM//\")\n",
        "DATA_ROOM_loc = \"//content//drive//My Drive//DATA_ROOM//\" \n"
      ],
      "execution_count": 0,
      "outputs": []
    },
    {
      "cell_type": "code",
      "metadata": {
        "id": "RW_EtqB1EL0E",
        "colab_type": "code",
        "colab": {}
      },
      "source": [
        "def download_save(ticker_list=None,start_date=None,end_date=None,folder=None):\n",
        "  '''The function iteratores over the ticker list and saves in the folder '''\n",
        "  print(\"Total No of tickers {}\".format(len(ticker_list)))\n",
        "  for counter,ticker in enumerate(ticker_list):\n",
        "    try:\n",
        "      getData(ticker,start_date,end_date,folder)\n",
        "    except:\n",
        "      print(\"Exception Noted for {}\".format(ticker))\n",
        "      pass\n",
        "    if (counter+1)%100==0:\n",
        "      print (\"Completed {} Stocks\".format(counter))\n",
        "    if counter%10==0:\n",
        "      # sleep for random amount after 10 downloads\n",
        "      time.sleep(pd.np.random.random())"
      ],
      "execution_count": 0,
      "outputs": []
    },
    {
      "cell_type": "code",
      "metadata": {
        "id": "0AJgsN21F0kX",
        "colab_type": "code",
        "colab": {}
      },
      "source": [
        "download_save(ticker_list,start_date,end_date,DATA_ROOM_loc)"
      ],
      "execution_count": 0,
      "outputs": []
    },
    {
      "cell_type": "code",
      "metadata": {
        "id": "2thRLugfNk0j",
        "colab_type": "code",
        "colab": {}
      },
      "source": [
        ""
      ],
      "execution_count": 0,
      "outputs": []
    },
    {
      "cell_type": "code",
      "metadata": {
        "id": "hc0V0ChgN2lH",
        "colab_type": "code",
        "colab": {}
      },
      "source": [
        ""
      ],
      "execution_count": 0,
      "outputs": []
    },
    {
      "cell_type": "code",
      "metadata": {
        "id": "WCA4ZiXaN7Qi",
        "colab_type": "code",
        "colab": {}
      },
      "source": [
        ""
      ],
      "execution_count": 0,
      "outputs": []
    },
    {
      "cell_type": "code",
      "metadata": {
        "id": "AEI5qDRBN7lM",
        "colab_type": "code",
        "colab": {}
      },
      "source": [
        ""
      ],
      "execution_count": 0,
      "outputs": []
    }
  ]
}