{
 "cells": [
  {
   "cell_type": "code",
   "execution_count": 1,
   "metadata": {},
   "outputs": [],
   "source": [
    "import requests\n",
    "import pandas as pd"
   ]
  },
  {
   "cell_type": "code",
   "execution_count": 36,
   "metadata": {},
   "outputs": [],
   "source": [
    "# df = pd.read_html('https://www.moneycontrol.com/stocks/marketinfo/splits/homebody.php?sel_year=1989',header=0)\n",
    "import os\n",
    "os.chdir('E:\\\\years\\\\')"
   ]
  },
  {
   "cell_type": "code",
   "execution_count": 37,
   "metadata": {},
   "outputs": [],
   "source": [
    "def getFrame(df):\n",
    "    for d in df:\n",
    "        if len(d.columns)==4:\n",
    "            return d"
   ]
  },
  {
   "cell_type": "code",
   "execution_count": 78,
   "metadata": {},
   "outputs": [],
   "source": [
    "def getSplitFiles():\n",
    "    for yr in range(1989,2020):\n",
    "        try:\n",
    "            df = pd.read_html('https://www.moneycontrol.com/stocks/marketinfo/splits/homebody.php?sel_year='+str(yr),header=0)\n",
    "            df = getFrame(df).dropna()\n",
    "            df.to_csv(str(yr)+'.csv')\n",
    "            print yr,'completed '\n",
    "        except:\n",
    "            print yr,'not processed'\n",
    "            pass"
   ]
  },
  {
   "cell_type": "code",
   "execution_count": 79,
   "metadata": {},
   "outputs": [
    {
     "name": "stdout",
     "output_type": "stream",
     "text": [
      "1989 completed \n",
      "1990 completed \n",
      "1991 completed \n"
     ]
    }
   ],
   "source": [
    "getSplitFiles()"
   ]
  },
  {
   "cell_type": "code",
   "execution_count": 80,
   "metadata": {},
   "outputs": [],
   "source": [
    "def combineFiles():\n",
    "    df = pd.DataFrame()\n",
    "    for yr in range(1989,2020):\n",
    "        temp = pd.read_csv(str(yr)+'.csv',header=1)\n",
    "        df = pd.concat([df,temp],sort=False)\n",
    "    return df.filter(['Company','Old FV','New FV','Split Date'])"
   ]
  },
  {
   "cell_type": "code",
   "execution_count": 81,
   "metadata": {},
   "outputs": [],
   "source": [
    "df = combineFiles().drop_duplicates()\n",
    "df.to_csv('split.csv')"
   ]
  },
  {
   "cell_type": "code",
   "execution_count": 111,
   "metadata": {},
   "outputs": [],
   "source": [
    "companies  = os.listdir('E:\\\\Research-Stuff\\\\')"
   ]
  },
  {
   "cell_type": "code",
   "execution_count": 113,
   "metadata": {},
   "outputs": [],
   "source": [
    "companies = [company.replace('.csv','') for company in companies if company not in 'top100.csv']"
   ]
  },
  {
   "cell_type": "code",
   "execution_count": 117,
   "metadata": {},
   "outputs": [],
   "source": [
    "def getsplitlink(query=None):\n",
    "    for j in search(' {} MoneyControl Stock Split'.format(query), tld=\"co.in\", num=10, stop=1, pause=2):\n",
    "        return str(j)"
   ]
  },
  {
   "cell_type": "code",
   "execution_count": 136,
   "metadata": {},
   "outputs": [],
   "source": [
    "def getsplitlist():\n",
    "    df = [] #pd.DataFrame()\n",
    "    for company in companies:\n",
    "        try:\n",
    "            link = str(getsplitlink(company))\n",
    "        except:\n",
    "            link = None\n",
    "            pass\n",
    "        df.append([company,link])\n",
    "    return pd.DataFrame(df,columns=['Company','SplitLink'])"
   ]
  },
  {
   "cell_type": "code",
   "execution_count": 137,
   "metadata": {},
   "outputs": [],
   "source": [
    "xx = getsplitlist()"
   ]
  },
  {
   "cell_type": "code",
   "execution_count": 140,
   "metadata": {},
   "outputs": [],
   "source": [
    "xx.to_csv('E:\\\\years\\\\top100 Split details\\\\splitlinks.csv')"
   ]
  },
  {
   "cell_type": "code",
   "execution_count": null,
   "metadata": {},
   "outputs": [],
   "source": [
    "def getSplitDates():\n",
    "    deal = pd.read_html(link).dropna()\n",
    "    "
   ]
  },
  {
   "cell_type": "code",
   "execution_count": 143,
   "metadata": {},
   "outputs": [
    {
     "data": {
      "text/html": [
       "<div>\n",
       "<style scoped>\n",
       "    .dataframe tbody tr th:only-of-type {\n",
       "        vertical-align: middle;\n",
       "    }\n",
       "\n",
       "    .dataframe tbody tr th {\n",
       "        vertical-align: top;\n",
       "    }\n",
       "\n",
       "    .dataframe thead th {\n",
       "        text-align: right;\n",
       "    }\n",
       "</style>\n",
       "<table border=\"1\" class=\"dataframe\">\n",
       "  <thead>\n",
       "    <tr style=\"text-align: right;\">\n",
       "      <th></th>\n",
       "      <th>Announcement Date</th>\n",
       "      <th>Old FV</th>\n",
       "      <th>New FV</th>\n",
       "      <th>Ex-Split Date</th>\n",
       "    </tr>\n",
       "  </thead>\n",
       "  <tbody>\n",
       "  </tbody>\n",
       "</table>\n",
       "</div>"
      ],
      "text/plain": [
       "Empty DataFrame\n",
       "Columns: [Announcement Date, Old FV, New FV, Ex-Split Date]\n",
       "Index: []"
      ]
     },
     "execution_count": 143,
     "metadata": {},
     "output_type": "execute_result"
    }
   ],
   "source": [
    "pd.read_html('https://www.moneycontrol.com/company-facts/adanigreenenergylimited/splits/ADANI54145')[0].dropna()"
   ]
  },
  {
   "cell_type": "code",
   "execution_count": 161,
   "metadata": {},
   "outputs": [],
   "source": [
    "# for name,link in xx.iterrows():\n",
    "#     print name, str(link.values[0])\n",
    "## made some visual inspections and made some changes"
   ]
  },
  {
   "cell_type": "code",
   "execution_count": 163,
   "metadata": {},
   "outputs": [],
   "source": [
    "linkdf = pd.read_csv('E:\\\\years\\\\top100 Split details\\\\splitlinks.csv').set_index('Company')"
   ]
  },
  {
   "cell_type": "code",
   "execution_count": 167,
   "metadata": {},
   "outputs": [],
   "source": [
    "companyDict  = linkdf.to_dict()['SplitLink']"
   ]
  },
  {
   "cell_type": "code",
   "execution_count": 168,
   "metadata": {},
   "outputs": [],
   "source": [
    "os.chdir('E:\\\\years\\\\top100 Split details\\\\')"
   ]
  },
  {
   "cell_type": "code",
   "execution_count": 181,
   "metadata": {},
   "outputs": [],
   "source": [
    "# ExceptionList = []\n",
    "# for company,link in companyDict.iteritems():\n",
    "#     try:\n",
    "#         df = pd.read_html(str(link))[0].dropna()\n",
    "#         print 'Completed' , company\n",
    "#     except:\n",
    "#         df = pd.DataFrame()\n",
    "#         print 'Exception', company\n",
    "#         ExceptionList.append(company)\n",
    "#     df.to_csv(company+'.csv')\n",
    "# ## i guess Canara Bank Split Never Recorded .\n",
    "# ## ?"
   ]
  },
  {
   "cell_type": "code",
   "execution_count": 182,
   "metadata": {},
   "outputs": [
    {
     "data": {
      "text/plain": [
       "['MCDOWELL-N']"
      ]
     },
     "execution_count": 182,
     "metadata": {},
     "output_type": "execute_result"
    }
   ],
   "source": [
    "ExceptionList ## manually downloaded as saved"
   ]
  },
  {
   "cell_type": "code",
   "execution_count": 197,
   "metadata": {},
   "outputs": [],
   "source": [
    "file_ = os.listdir(os.getcwd())"
   ]
  },
  {
   "cell_type": "code",
   "execution_count": 247,
   "metadata": {},
   "outputs": [],
   "source": [
    "DF = pd.DataFrame()\n",
    "for file__ in file_:#[:4]:\n",
    "    if '0' in pd.read_csv(file__).columns:\n",
    "        df = pd.read_csv(file__,skiprows=1)\n",
    "    else:\n",
    "        df = pd.read_csv(file__)\n",
    "    df = df.filter(['Announcement Date','Old FV','New FV','Ex-Split Date'])\n",
    "    if len(df)>0:\n",
    "        df['symbol'] = file__.replace('.csv','')\n",
    "        df.set_index('symbol')\n",
    "        DF = pd.concat([DF,df],axis=0,sort=False)\n",
    "        \n",
    "        ##https://www.moneycontrol.com/company-facts/lichousingfinance/splits/LIC#LIC ;link also needed to be manually changed"
   ]
  },
  {
   "cell_type": "code",
   "execution_count": 250,
   "metadata": {},
   "outputs": [],
   "source": [
    "DF.to_csv(\"E:\\\\years\\\\splitlist.csv\") ## finally have a split list. ##woff!"
   ]
  },
  {
   "cell_type": "code",
   "execution_count": 11,
   "metadata": {},
   "outputs": [],
   "source": [
    "import pandas as pd\n",
    "df = pd.read_csv('E:\\\\years\\\\splitlist.csv')"
   ]
  },
  {
   "cell_type": "code",
   "execution_count": 12,
   "metadata": {},
   "outputs": [],
   "source": [
    "df=  df[~(df['Ex-Split Date']=='-')]"
   ]
  },
  {
   "cell_type": "code",
   "execution_count": 14,
   "metadata": {},
   "outputs": [
    {
     "data": {
      "text/html": [
       "<div>\n",
       "<style scoped>\n",
       "    .dataframe tbody tr th:only-of-type {\n",
       "        vertical-align: middle;\n",
       "    }\n",
       "\n",
       "    .dataframe tbody tr th {\n",
       "        vertical-align: top;\n",
       "    }\n",
       "\n",
       "    .dataframe thead th {\n",
       "        text-align: right;\n",
       "    }\n",
       "</style>\n",
       "<table border=\"1\" class=\"dataframe\">\n",
       "  <thead>\n",
       "    <tr style=\"text-align: right;\">\n",
       "      <th></th>\n",
       "      <th>Announcement Date</th>\n",
       "      <th>Old FV</th>\n",
       "      <th>New FV</th>\n",
       "      <th>Ex-Split Date</th>\n",
       "      <th>symbol</th>\n",
       "      <th>AdjustmentFactor</th>\n",
       "    </tr>\n",
       "  </thead>\n",
       "  <tbody>\n",
       "    <tr>\n",
       "      <th>0</th>\n",
       "      <td>29-07-1994</td>\n",
       "      <td>100</td>\n",
       "      <td>10</td>\n",
       "      <td>29-07-1994</td>\n",
       "      <td>CIPLA</td>\n",
       "      <td>0.1</td>\n",
       "    </tr>\n",
       "    <tr>\n",
       "      <th>1</th>\n",
       "      <td>03-01-1996</td>\n",
       "      <td>100</td>\n",
       "      <td>10</td>\n",
       "      <td>19-10-1989</td>\n",
       "      <td>RELIANCE</td>\n",
       "      <td>0.1</td>\n",
       "    </tr>\n",
       "    <tr>\n",
       "      <th>3</th>\n",
       "      <td>03-01-1996</td>\n",
       "      <td>100</td>\n",
       "      <td>10</td>\n",
       "      <td>23-10-1989</td>\n",
       "      <td>TATASTEEL</td>\n",
       "      <td>0.1</td>\n",
       "    </tr>\n",
       "    <tr>\n",
       "      <th>4</th>\n",
       "      <td>27-09-1999</td>\n",
       "      <td>10</td>\n",
       "      <td>1</td>\n",
       "      <td>06-12-1999</td>\n",
       "      <td>ZEEL</td>\n",
       "      <td>0.1</td>\n",
       "    </tr>\n",
       "    <tr>\n",
       "      <th>5</th>\n",
       "      <td>30-11-1999</td>\n",
       "      <td>10</td>\n",
       "      <td>5</td>\n",
       "      <td>24-01-2000</td>\n",
       "      <td>INFY</td>\n",
       "      <td>0.5</td>\n",
       "    </tr>\n",
       "  </tbody>\n",
       "</table>\n",
       "</div>"
      ],
      "text/plain": [
       "  Announcement Date  Old FV  New FV Ex-Split Date     symbol  AdjustmentFactor\n",
       "0        29-07-1994     100      10    29-07-1994      CIPLA               0.1\n",
       "1        03-01-1996     100      10    19-10-1989   RELIANCE               0.1\n",
       "3        03-01-1996     100      10    23-10-1989  TATASTEEL               0.1\n",
       "4        27-09-1999      10       1    06-12-1999       ZEEL               0.1\n",
       "5        30-11-1999      10       5    24-01-2000       INFY               0.5"
      ]
     },
     "execution_count": 14,
     "metadata": {},
     "output_type": "execute_result"
    }
   ],
   "source": [
    "df['AdjustmentFactor']=df['New FV']/df['Old FV'];df.head()"
   ]
  },
  {
   "cell_type": "code",
   "execution_count": 22,
   "metadata": {},
   "outputs": [
    {
     "data": {
      "text/html": [
       "<div>\n",
       "<style scoped>\n",
       "    .dataframe tbody tr th:only-of-type {\n",
       "        vertical-align: middle;\n",
       "    }\n",
       "\n",
       "    .dataframe tbody tr th {\n",
       "        vertical-align: top;\n",
       "    }\n",
       "\n",
       "    .dataframe thead th {\n",
       "        text-align: right;\n",
       "    }\n",
       "</style>\n",
       "<table border=\"1\" class=\"dataframe\">\n",
       "  <thead>\n",
       "    <tr style=\"text-align: right;\">\n",
       "      <th></th>\n",
       "      <th>Announcement Date</th>\n",
       "      <th>Old FV</th>\n",
       "      <th>New FV</th>\n",
       "      <th>Ex-Split Date</th>\n",
       "      <th>symbol</th>\n",
       "      <th>AdjustmentFactor</th>\n",
       "    </tr>\n",
       "  </thead>\n",
       "  <tbody>\n",
       "    <tr>\n",
       "      <th>38</th>\n",
       "      <td>18-04-2011</td>\n",
       "      <td>10</td>\n",
       "      <td>2</td>\n",
       "      <td>14-07-2011</td>\n",
       "      <td>HDFCBANK</td>\n",
       "      <td>0.2</td>\n",
       "    </tr>\n",
       "    <tr>\n",
       "      <th>59</th>\n",
       "      <td>22-05-2019</td>\n",
       "      <td>2</td>\n",
       "      <td>1</td>\n",
       "      <td>19-09-2019</td>\n",
       "      <td>HDFCBANK</td>\n",
       "      <td>0.5</td>\n",
       "    </tr>\n",
       "  </tbody>\n",
       "</table>\n",
       "</div>"
      ],
      "text/plain": [
       "   Announcement Date  Old FV  New FV Ex-Split Date    symbol  AdjustmentFactor\n",
       "38        18-04-2011      10       2    14-07-2011  HDFCBANK               0.2\n",
       "59        22-05-2019       2       1    19-09-2019  HDFCBANK               0.5"
      ]
     },
     "execution_count": 22,
     "metadata": {},
     "output_type": "execute_result"
    }
   ],
   "source": [
    "# df['symbol'].value_counts()\n",
    "df[df['symbol']=='HDFCBANK']"
   ]
  },
  {
   "cell_type": "code",
   "execution_count": null,
   "metadata": {},
   "outputs": [],
   "source": []
  }
 ],
 "metadata": {
  "kernelspec": {
   "display_name": "Python 2",
   "language": "python",
   "name": "python2"
  },
  "language_info": {
   "codemirror_mode": {
    "name": "ipython",
    "version": 2
   },
   "file_extension": ".py",
   "mimetype": "text/x-python",
   "name": "python",
   "nbconvert_exporter": "python",
   "pygments_lexer": "ipython2",
   "version": "2.7.15"
  }
 },
 "nbformat": 4,
 "nbformat_minor": 2
}
